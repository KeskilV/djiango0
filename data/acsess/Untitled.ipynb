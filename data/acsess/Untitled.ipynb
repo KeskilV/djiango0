{
 "cells": [
  {
   "cell_type": "code",
   "execution_count": 1,
   "id": "0b67317d",
   "metadata": {},
   "outputs": [],
   "source": [
    "import pandas as pd"
   ]
  },
  {
   "cell_type": "code",
   "execution_count": 119,
   "id": "a9c1e8a2",
   "metadata": {},
   "outputs": [],
   "source": [
    "filecsv = 'for_site0.csv'"
   ]
  },
  {
   "cell_type": "code",
   "execution_count": 12,
   "id": "3e396e0c",
   "metadata": {},
   "outputs": [],
   "source": [
    "df = pd.read_csv(filecsv,sep =';', encoding='cp1251')"
   ]
  },
  {
   "cell_type": "code",
   "execution_count": 104,
   "id": "38477cc8",
   "metadata": {},
   "outputs": [],
   "source": [
    "df['col_gia'] = None\n",
    "df['cla_gia'] = None\n",
    "df['cut_gia'] = None\n",
    "df['res'] = None"
   ]
  },
  {
   "cell_type": "code",
   "execution_count": 105,
   "id": "5dd631af",
   "metadata": {},
   "outputs": [
    {
     "name": "stdout",
     "output_type": "stream",
     "text": [
      "<class 'pandas.core.frame.DataFrame'>\n",
      "RangeIndex: 1145 entries, 0 to 1144\n",
      "Data columns (total 38 columns):\n",
      " #   Column          Non-Null Count  Dtype  \n",
      "---  ------          --------------  -----  \n",
      " 0   id_1            1145 non-null   int64  \n",
      " 1   код_т           1145 non-null   int64  \n",
      " 2   партия          1145 non-null   int64  \n",
      " 3   код_случ        1145 non-null   object \n",
      " 4   номер_паспорта  1145 non-null   object \n",
      " 5   дата_паспорта   1145 non-null   object \n",
      " 6   огранка         1145 non-null   object \n",
      " 7   shape           1145 non-null   object \n",
      " 8   DiametrMin      1145 non-null   float64\n",
      " 9   DiametrMax      1145 non-null   float64\n",
      " 10  Размеры         0 non-null      float64\n",
      " 11  ОБЩМАССА        0 non-null      float64\n",
      " 12  масса           1145 non-null   float64\n",
      " 13  штук            1145 non-null   int64  \n",
      " 14  цвет            1145 non-null   object \n",
      " 15  чистота         1145 non-null   object \n",
      " 16  геом_парам      1145 non-null   object \n",
      " 17  флуор           360 non-null    object \n",
      " 18  комент          785 non-null    object \n",
      " 19  TotalDepth      360 non-null    float64\n",
      " 20  diametr         1145 non-null   float64\n",
      " 21  PavilDepth      1145 non-null   float64\n",
      " 22  PavilAngle      1145 non-null   float64\n",
      " 23  CrownHeight     1145 non-null   float64\n",
      " 24  CrownAngle      1145 non-null   float64\n",
      " 25  TableSize       1145 non-null   float64\n",
      " 26  Girdle_max      1145 non-null   float64\n",
      " 27  Girdle_min      360 non-null    float64\n",
      " 28  CuletSize       1145 non-null   float64\n",
      " 29  принт           1145 non-null   int64  \n",
      " 30  diamdev         360 non-null    object \n",
      " 31  Weight          1145 non-null   float64\n",
      " 32  kod             360 non-null    float64\n",
      " 33  mras            0 non-null      float64\n",
      " 34  col_gia         0 non-null      object \n",
      " 35  cla_gia         0 non-null      object \n",
      " 36  cut_gia         0 non-null      object \n",
      " 37  res             0 non-null      object \n",
      "dtypes: float64(18), int64(5), object(15)\n",
      "memory usage: 340.0+ KB\n"
     ]
    }
   ],
   "source": [
    "df.info()"
   ]
  },
  {
   "cell_type": "code",
   "execution_count": 11,
   "id": "9ffcf32d",
   "metadata": {},
   "outputs": [],
   "source": [
    "pd.read_csv?"
   ]
  },
  {
   "cell_type": "code",
   "execution_count": 107,
   "id": "58f4b9a2",
   "metadata": {},
   "outputs": [],
   "source": [
    "names = list(df.columns)\n",
    "types = [type(df.iloc[0,i]) for i in range(len(names))]\n",
    "new_names = ['id_1', 'kod_t', 'part', 'kod_r', 'nsert', 'dsert', 'ogr', 'shape', 'DiametrMin', 'DiametrMax',\n",
    " 'sizes', 'obshmass', 'carat', 'pst', 'col_r', 'cla_r', 'po_r', 'flour', 'comment', 'TotalDepth',\n",
    " 'diametr', 'PavilDepth', 'PavilAngle', 'CrownHeight', 'CrownAngle', 'TableSize', 'Girdle_max',\n",
    " 'Girdle_min', 'CuletSize', 'print', 'diamdev', 'Weight', 'kod', 'mras', 'col_gia', 'cla_gia', 'cut_gia', 'res']\n",
    "d = dict()\n",
    "for i,x in enumerate(names):\n",
    "    d[x] = new_names[i]\n",
    "#print(types)"
   ]
  },
  {
   "cell_type": "code",
   "execution_count": 108,
   "id": "f234462e",
   "metadata": {},
   "outputs": [],
   "source": [
    "def helper_models(t):\n",
    "    mytypes = ['float','int','str']\n",
    "    mydict = {'float': 'FloatField',\n",
    "              'int': 'IntegerField',\n",
    "              'str': 'CharField'}\n",
    "    def mytype(x):\n",
    "        for mt in mytypes:\n",
    "            if x.__contains__('mt'):\n",
    "                return mt\n",
    "        \n",
    "    return NONE"
   ]
  },
  {
   "cell_type": "code",
   "execution_count": 109,
   "id": "04c3f6ba",
   "metadata": {},
   "outputs": [],
   "source": [
    "mytypes = ['float','int','str']\n"
   ]
  },
  {
   "cell_type": "code",
   "execution_count": 114,
   "id": "9bd96fe4",
   "metadata": {},
   "outputs": [],
   "source": [
    "def helper_models(x):\n",
    "    mytypes = ['float','int','str']\n",
    "    mydict = {'float': 'FloatField',\n",
    "              'int': 'IntegerField',\n",
    "              'str': 'CharField'}\n",
    "    for mt in mytypes:\n",
    "        if x.__contains__(mt):\n",
    "            return mydict[mt]"
   ]
  },
  {
   "cell_type": "code",
   "execution_count": 115,
   "id": "39320718",
   "metadata": {},
   "outputs": [
    {
     "data": {
      "text/plain": [
       "['IntegerField',\n",
       " 'IntegerField',\n",
       " 'IntegerField',\n",
       " 'CharField',\n",
       " 'CharField',\n",
       " 'CharField',\n",
       " 'CharField',\n",
       " 'CharField',\n",
       " 'FloatField',\n",
       " 'FloatField',\n",
       " 'FloatField',\n",
       " 'FloatField',\n",
       " 'FloatField',\n",
       " 'IntegerField',\n",
       " 'CharField',\n",
       " 'CharField',\n",
       " 'CharField',\n",
       " 'FloatField',\n",
       " 'CharField',\n",
       " 'FloatField',\n",
       " 'FloatField',\n",
       " 'FloatField',\n",
       " 'FloatField',\n",
       " 'FloatField',\n",
       " 'FloatField',\n",
       " 'FloatField',\n",
       " 'FloatField',\n",
       " 'FloatField',\n",
       " 'FloatField',\n",
       " 'IntegerField',\n",
       " 'FloatField',\n",
       " 'FloatField',\n",
       " 'FloatField',\n",
       " 'FloatField',\n",
       " None,\n",
       " None,\n",
       " None,\n",
       " None]"
      ]
     },
     "execution_count": 115,
     "metadata": {},
     "output_type": "execute_result"
    }
   ],
   "source": [
    "[helper_models(str(x)) for x in types]"
   ]
  },
  {
   "cell_type": "code",
   "execution_count": null,
   "id": "112e40a3",
   "metadata": {},
   "outputs": [],
   "source": []
  },
  {
   "cell_type": "code",
   "execution_count": null,
   "id": "47678d25",
   "metadata": {},
   "outputs": [],
   "source": [
    "'''\n",
    "cla = models.('Чистота', max_length=3)\n",
    "cut = models.CharField('Параметр огранки', max_length=1)\n",
    "carat = models.FloatField('Карат')\n",
    "pcs = models.IntegerField('Штук')\n",
    "'''"
   ]
  },
  {
   "cell_type": "code",
   "execution_count": 67,
   "id": "01edd1fd",
   "metadata": {},
   "outputs": [],
   "source": []
  },
  {
   "cell_type": "code",
   "execution_count": 116,
   "id": "5f15bb3d",
   "metadata": {},
   "outputs": [
    {
     "name": "stdout",
     "output_type": "stream",
     "text": [
      "id_1 = models.IntegerField('id_1')\n",
      "kod_t = models.IntegerField('код_т')\n",
      "part = models.IntegerField('партия')\n",
      "kod_r = models.CharField('код_случ', max_length=)\n",
      "nsert = models.CharField('номер_паспорта', max_length=)\n",
      "dsert = models.CharField('дата_паспорта', max_length=)\n",
      "ogr = models.CharField('огранка', max_length=)\n",
      "shape = models.CharField('shape', max_length=)\n",
      "DiametrMin = models.FloatField('DiametrMin')\n",
      "DiametrMax = models.FloatField('DiametrMax')\n",
      "sizes = models.FloatField('Размеры')\n",
      "obshmass = models.FloatField('ОБЩМАССА')\n",
      "carat = models.FloatField('масса')\n",
      "pst = models.IntegerField('штук')\n",
      "col_r = models.CharField('цвет', max_length=)\n",
      "cla_r = models.CharField('чистота', max_length=)\n",
      "po_r = models.CharField('геом_парам', max_length=)\n",
      "flour = models.FloatField('флуор')\n",
      "comment = models.CharField('комент', max_length=)\n",
      "TotalDepth = models.FloatField('TotalDepth')\n",
      "diametr = models.FloatField('diametr')\n",
      "PavilDepth = models.FloatField('PavilDepth')\n",
      "PavilAngle = models.FloatField('PavilAngle')\n",
      "CrownHeight = models.FloatField('CrownHeight')\n",
      "CrownAngle = models.FloatField('CrownAngle')\n",
      "TableSize = models.FloatField('TableSize')\n",
      "Girdle_max = models.FloatField('Girdle_max')\n",
      "Girdle_min = models.FloatField('Girdle_min')\n",
      "CuletSize = models.FloatField('CuletSize')\n",
      "print = models.IntegerField('принт')\n",
      "diamdev = models.FloatField('diamdev')\n",
      "Weight = models.FloatField('Weight')\n",
      "kod = models.FloatField('kod')\n",
      "mras = models.FloatField('mras')\n",
      "col_gia = models.None('col_gia')\n",
      "cla_gia = models.None('cla_gia')\n",
      "cut_gia = models.None('cut_gia')\n",
      "res = models.None('res')\n"
     ]
    }
   ],
   "source": [
    "for i,n in enumerate(names):\n",
    "    print (\"{} = models.{}('{}'{})\".format(\n",
    "        new_names[i], helper_models(str(types[i])), n,\n",
    "        ', max_length=' if  helper_models(str(types[i])) == 'CharField' else ''))"
   ]
  },
  {
   "cell_type": "code",
   "execution_count": 121,
   "id": "1ad3d336",
   "metadata": {},
   "outputs": [
    {
     "data": {
      "text/plain": [
       "'for_site0'"
      ]
     },
     "execution_count": 121,
     "metadata": {},
     "output_type": "execute_result"
    }
   ],
   "source": [
    "filecsv.split('.')[0]"
   ]
  },
  {
   "cell_type": "code",
   "execution_count": 122,
   "id": "b2138424",
   "metadata": {},
   "outputs": [],
   "source": [
    "df.rename(columns=d).to_csv(filecsv.split('.')[0]+'conv.csv')"
   ]
  },
  {
   "cell_type": "code",
   "execution_count": null,
   "id": "0b564c46",
   "metadata": {},
   "outputs": [],
   "source": []
  }
 ],
 "metadata": {
  "kernelspec": {
   "display_name": "Python 3 (ipykernel)",
   "language": "python",
   "name": "python3"
  },
  "language_info": {
   "codemirror_mode": {
    "name": "ipython",
    "version": 3
   },
   "file_extension": ".py",
   "mimetype": "text/x-python",
   "name": "python",
   "nbconvert_exporter": "python",
   "pygments_lexer": "ipython3",
   "version": "3.9.7"
  }
 },
 "nbformat": 4,
 "nbformat_minor": 5
}
