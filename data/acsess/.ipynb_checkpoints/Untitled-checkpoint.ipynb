{
 "cells": [
  {
   "cell_type": "code",
   "execution_count": 1,
   "id": "cc4e069e",
   "metadata": {},
   "outputs": [],
   "source": [
    "import pandas as pd"
   ]
  },
  {
   "cell_type": "code",
   "execution_count": 12,
   "id": "61975144",
   "metadata": {},
   "outputs": [],
   "source": [
    "df = pd.read_csv('for_site0.csv',sep =';', encoding='cp1251')"
   ]
  },
  {
   "cell_type": "code",
   "execution_count": 13,
   "id": "c6f12751",
   "metadata": {},
   "outputs": [
    {
     "name": "stdout",
     "output_type": "stream",
     "text": [
      "<class 'pandas.core.frame.DataFrame'>\n",
      "RangeIndex: 1145 entries, 0 to 1144\n",
      "Data columns (total 34 columns):\n",
      " #   Column          Non-Null Count  Dtype  \n",
      "---  ------          --------------  -----  \n",
      " 0   id_1            1145 non-null   int64  \n",
      " 1   код_т           1145 non-null   int64  \n",
      " 2   партия          1145 non-null   int64  \n",
      " 3   код_случ        1145 non-null   object \n",
      " 4   номер_паспорта  1145 non-null   object \n",
      " 5   дата_паспорта   1145 non-null   object \n",
      " 6   огранка         1145 non-null   object \n",
      " 7   shape           1145 non-null   object \n",
      " 8   DiametrMin      1145 non-null   float64\n",
      " 9   DiametrMax      1145 non-null   float64\n",
      " 10  Размеры         0 non-null      float64\n",
      " 11  ОБЩМАССА        0 non-null      float64\n",
      " 12  масса           1145 non-null   float64\n",
      " 13  штук            1145 non-null   int64  \n",
      " 14  цвет            1145 non-null   object \n",
      " 15  чистота         1145 non-null   object \n",
      " 16  геом_парам      1145 non-null   object \n",
      " 17  флуор           360 non-null    object \n",
      " 18  комент          785 non-null    object \n",
      " 19  TotalDepth      360 non-null    float64\n",
      " 20  diametr         1145 non-null   float64\n",
      " 21  PavilDepth      1145 non-null   float64\n",
      " 22  PavilAngle      1145 non-null   float64\n",
      " 23  CrownHeight     1145 non-null   float64\n",
      " 24  CrownAngle      1145 non-null   float64\n",
      " 25  TableSize       1145 non-null   float64\n",
      " 26  Girdle_max      1145 non-null   float64\n",
      " 27  Girdle_min      360 non-null    float64\n",
      " 28  CuletSize       1145 non-null   float64\n",
      " 29  принт           1145 non-null   int64  \n",
      " 30  diamdev         360 non-null    object \n",
      " 31  Weight          1145 non-null   float64\n",
      " 32  kod             360 non-null    float64\n",
      " 33  mras            0 non-null      float64\n",
      "dtypes: float64(18), int64(5), object(11)\n",
      "memory usage: 304.3+ KB\n"
     ]
    }
   ],
   "source": [
    "df.info()"
   ]
  },
  {
   "cell_type": "code",
   "execution_count": 11,
   "id": "a9804975",
   "metadata": {},
   "outputs": [],
   "source": [
    "pd.read_csv?"
   ]
  },
  {
   "cell_type": "code",
   "execution_count": 40,
   "id": "8da8b9bb",
   "metadata": {},
   "outputs": [],
   "source": [
    "names = list(df.columns)\n",
    "types = [type(df.iloc[0,i]) for i in range(len(names))]\n",
    "new_names = ['id_1', 'kod_t', 'part', 'kod_r', 'nsert', 'dsert', 'ogr', 'shape', 'DiametrMin', 'DiametrMax',\n",
    " 'sizes', 'obshmass', 'carat', 'pst', 'col_r', 'cla_r', 'po_r', 'flour', 'comment', 'TotalDepth',\n",
    " 'diametr', 'PavilDepth', 'PavilAngle', 'CrownHeight', 'CrownAngle', 'TableSize', 'Girdle_max',\n",
    " 'Girdle_min', 'CuletSize', 'print', 'diamdev', 'Weight', 'kod', 'mras']\n",
    "d = dict()\n",
    "for i,x in enumerate(names):\n",
    "    d[x] = new_names[i]\n",
    "print(types)"
   ]
  },
  {
   "cell_type": "code",
   "execution_count": 69,
   "id": "ddf32396",
   "metadata": {},
   "outputs": [],
   "source": [
    "def helper_models(t):\n",
    "    mytypes = ['float','int','str']\n",
    "    mydict = {'float': 'FloatField',\n",
    "              'int': 'IntegerField',\n",
    "              'str': 'CharField'}\n",
    "    def mytype(x):\n",
    "        for mt in mytypes:\n",
    "            if x.__contains__('mt'):\n",
    "                return mt\n",
    "        \n",
    "    return NONE"
   ]
  },
  {
   "cell_type": "code",
   "execution_count": 73,
   "id": "9442b75e",
   "metadata": {},
   "outputs": [],
   "source": [
    "mytypes = ['float','int','str']\n"
   ]
  },
  {
   "cell_type": "code",
   "execution_count": 90,
   "id": "e3611b7d",
   "metadata": {},
   "outputs": [],
   "source": [
    "def helper_models(x):\n",
    "    mytypes = ['float','int','str']\n",
    "    mydict = {'float': 'FloatField',\n",
    "              'int': 'IntegerField',\n",
    "              'str': 'CharField'}\n",
    "    for mt in mytypes:\n",
    "        if x.__contains__(mt):\n",
    "            return mydict[mt]"
   ]
  },
  {
   "cell_type": "code",
   "execution_count": 91,
   "id": "ad865a04",
   "metadata": {},
   "outputs": [
    {
     "data": {
      "text/plain": [
       "['IntegerField',\n",
       " 'IntegerField',\n",
       " 'IntegerField',\n",
       " 'CharField',\n",
       " 'CharField',\n",
       " 'CharField',\n",
       " 'CharField',\n",
       " 'CharField',\n",
       " 'FloatField',\n",
       " 'FloatField',\n",
       " 'FloatField',\n",
       " 'FloatField',\n",
       " 'FloatField',\n",
       " 'IntegerField',\n",
       " 'CharField',\n",
       " 'CharField',\n",
       " 'CharField',\n",
       " 'FloatField',\n",
       " 'CharField',\n",
       " 'FloatField',\n",
       " 'FloatField',\n",
       " 'FloatField',\n",
       " 'FloatField',\n",
       " 'FloatField',\n",
       " 'FloatField',\n",
       " 'FloatField',\n",
       " 'FloatField',\n",
       " 'FloatField',\n",
       " 'FloatField',\n",
       " 'IntegerField',\n",
       " 'FloatField',\n",
       " 'FloatField',\n",
       " 'FloatField',\n",
       " 'FloatField']"
      ]
     },
     "execution_count": 91,
     "metadata": {},
     "output_type": "execute_result"
    }
   ],
   "source": [
    "[helper_models(str(x)) for x in types]"
   ]
  },
  {
   "cell_type": "code",
   "execution_count": null,
   "id": "c2d2cdf9",
   "metadata": {},
   "outputs": [],
   "source": []
  },
  {
   "cell_type": "code",
   "execution_count": null,
   "id": "54689bde",
   "metadata": {},
   "outputs": [],
   "source": [
    "'''\n",
    "cla = models.('Чистота', max_length=3)\n",
    "cut = models.CharField('Параметр огранки', max_length=1)\n",
    "carat = models.FloatField('Карат')\n",
    "pcs = models.IntegerField('Штук')\n",
    "'''"
   ]
  },
  {
   "cell_type": "code",
   "execution_count": 67,
   "id": "b884eae6",
   "metadata": {},
   "outputs": [],
   "source": []
  },
  {
   "cell_type": "code",
   "execution_count": 68,
   "id": "02fff28f",
   "metadata": {},
   "outputs": [
    {
     "name": "stdout",
     "output_type": "stream",
     "text": [
      "id_1 = models.<class 'numpy.int64'>('id_1')\n",
      "kod_t = models.<class 'numpy.int64'>('код_т')\n",
      "part = models.<class 'numpy.int64'>('партия')\n",
      "kod_r = models.<class 'str'>('код_случ')\n",
      "nsert = models.<class 'str'>('номер_паспорта')\n",
      "dsert = models.<class 'str'>('дата_паспорта')\n",
      "ogr = models.<class 'str'>('огранка')\n",
      "shape = models.<class 'str'>('shape')\n",
      "DiametrMin = models.<class 'numpy.float64'>('DiametrMin')\n",
      "DiametrMax = models.<class 'numpy.float64'>('DiametrMax')\n",
      "sizes = models.<class 'numpy.float64'>('Размеры')\n",
      "obshmass = models.<class 'numpy.float64'>('ОБЩМАССА')\n",
      "carat = models.<class 'numpy.float64'>('масса')\n",
      "pst = models.<class 'numpy.int64'>('штук')\n",
      "col_r = models.<class 'str'>('цвет')\n",
      "cla_r = models.<class 'str'>('чистота')\n",
      "po_r = models.<class 'str'>('геом_парам')\n",
      "flour = models.<class 'float'>('флуор')\n",
      "comment = models.<class 'str'>('комент')\n",
      "TotalDepth = models.<class 'numpy.float64'>('TotalDepth')\n",
      "diametr = models.<class 'numpy.float64'>('diametr')\n",
      "PavilDepth = models.<class 'numpy.float64'>('PavilDepth')\n",
      "PavilAngle = models.<class 'numpy.float64'>('PavilAngle')\n",
      "CrownHeight = models.<class 'numpy.float64'>('CrownHeight')\n",
      "CrownAngle = models.<class 'numpy.float64'>('CrownAngle')\n",
      "TableSize = models.<class 'numpy.float64'>('TableSize')\n",
      "Girdle_max = models.<class 'numpy.float64'>('Girdle_max')\n",
      "Girdle_min = models.<class 'numpy.float64'>('Girdle_min')\n",
      "CuletSize = models.<class 'numpy.float64'>('CuletSize')\n",
      "print = models.<class 'numpy.int64'>('принт')\n",
      "diamdev = models.<class 'float'>('diamdev')\n",
      "Weight = models.<class 'numpy.float64'>('Weight')\n",
      "kod = models.<class 'numpy.float64'>('kod')\n",
      "mras = models.<class 'numpy.float64'>('mras')\n"
     ]
    }
   ],
   "source": [
    "for i,n in enumerate(names):\n",
    "    print (\"{} = models.{}('{}')\".format(new_names[i], types[i], n))"
   ]
  },
  {
   "cell_type": "code",
   "execution_count": null,
   "id": "631ba68d",
   "metadata": {},
   "outputs": [],
   "source": []
  }
 ],
 "metadata": {
  "kernelspec": {
   "display_name": "Python 3 (ipykernel)",
   "language": "python",
   "name": "python3"
  },
  "language_info": {
   "codemirror_mode": {
    "name": "ipython",
    "version": 3
   },
   "file_extension": ".py",
   "mimetype": "text/x-python",
   "name": "python",
   "nbconvert_exporter": "python",
   "pygments_lexer": "ipython3",
   "version": "3.9.7"
  }
 },
 "nbformat": 4,
 "nbformat_minor": 5
}
